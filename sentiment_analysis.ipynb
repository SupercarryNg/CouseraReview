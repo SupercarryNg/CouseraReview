{
 "cells": [
  {
   "cell_type": "code",
   "execution_count": 1,
   "id": "5f871650",
   "metadata": {},
   "outputs": [],
   "source": [
    "import pandas as pd\n",
    "import numpy as np\n",
    "import preprocessing\n",
    "import re\n",
    "import nltk\n",
    "\n",
    "%load_ext autoreload\n",
    "%autoreload 2"
   ]
  },
  {
   "cell_type": "markdown",
   "id": "4900679b",
   "metadata": {},
   "source": [
    "# Preprocessing of Input Data"
   ]
  },
  {
   "cell_type": "code",
   "execution_count": 2,
   "id": "5af8730d",
   "metadata": {
    "scrolled": true
   },
   "outputs": [
    {
     "name": "stdout",
     "output_type": "stream",
     "text": [
      "Preprocessing the data\n",
      "The sample size is:14791\n",
      "Preprocessing the data\n",
      "The sample size is:14791\n"
     ]
    }
   ],
   "source": [
    "csv_file = 'data/reviews.csv'\n",
    "preprocess = preprocessing.Preprocessing(csv_file, positive_num=5000, seed_num=8307)\n",
    "df = preprocess.cleaning(stop_words='stopwords.txt')\n",
    "# reserve this dataset for bert / RNN\n",
    "preprocess2 = preprocessing.Preprocessing(csv_file, positive_num=5000, seed_num=8307)\n",
    "df_original = preprocess2.cleaning(lowercase=True, remove_special=True, \n",
    "                                  stemming=False, stop_words=None)\n",
    "df['orig_tokens'] = df_original['tokens'].copy()"
   ]
  },
  {
   "cell_type": "code",
   "execution_count": 3,
   "id": "7b07ff4a",
   "metadata": {},
   "outputs": [
    {
     "data": {
      "text/html": [
       "<div>\n",
       "<style scoped>\n",
       "    .dataframe tbody tr th:only-of-type {\n",
       "        vertical-align: middle;\n",
       "    }\n",
       "\n",
       "    .dataframe tbody tr th {\n",
       "        vertical-align: top;\n",
       "    }\n",
       "\n",
       "    .dataframe thead th {\n",
       "        text-align: right;\n",
       "    }\n",
       "</style>\n",
       "<table border=\"1\" class=\"dataframe\">\n",
       "  <thead>\n",
       "    <tr style=\"text-align: right;\">\n",
       "      <th></th>\n",
       "      <th>Id</th>\n",
       "      <th>Review</th>\n",
       "      <th>Label</th>\n",
       "      <th>sentiment</th>\n",
       "      <th>tokens</th>\n",
       "      <th>orig_tokens</th>\n",
       "      <th>y</th>\n",
       "    </tr>\n",
       "  </thead>\n",
       "  <tbody>\n",
       "    <tr>\n",
       "      <th>103995</th>\n",
       "      <td>103995</td>\n",
       "      <td>The lectures for this course seem unorganized ...</td>\n",
       "      <td>2</td>\n",
       "      <td>negative</td>\n",
       "      <td>lectur unorgan poor audio content cover lectur...</td>\n",
       "      <td>lectures course seem unorganized often poor au...</td>\n",
       "      <td>-1</td>\n",
       "    </tr>\n",
       "    <tr>\n",
       "      <th>88092</th>\n",
       "      <td>88092</td>\n",
       "      <td>This course was supposed to be the last one be...</td>\n",
       "      <td>1</td>\n",
       "      <td>negative</td>\n",
       "      <td>suppos capston huge amount network basic level...</td>\n",
       "      <td>course supposed last one capstone nothing huge...</td>\n",
       "      <td>-1</td>\n",
       "    </tr>\n",
       "    <tr>\n",
       "      <th>644</th>\n",
       "      <td>644</td>\n",
       "      <td>The lectures are just videos of the professor ...</td>\n",
       "      <td>1</td>\n",
       "      <td>negative</td>\n",
       "      <td>lectur video professor bloviat jefferson academ</td>\n",
       "      <td>lectures videos professor bloviating jefferson...</td>\n",
       "      <td>-1</td>\n",
       "    </tr>\n",
       "    <tr>\n",
       "      <th>19564</th>\n",
       "      <td>19564</td>\n",
       "      <td>An exceptional course with extremely well thou...</td>\n",
       "      <td>5</td>\n",
       "      <td>positive</td>\n",
       "      <td>except extrem thought inform cleverli laid mod...</td>\n",
       "      <td>exceptional course extremely well thought info...</td>\n",
       "      <td>1</td>\n",
       "    </tr>\n",
       "    <tr>\n",
       "      <th>63890</th>\n",
       "      <td>63890</td>\n",
       "      <td>The teacher is very kind and humorous. The who...</td>\n",
       "      <td>5</td>\n",
       "      <td>positive</td>\n",
       "      <td>teacher kind humor set video eleg gratitud</td>\n",
       "      <td>teacher kind humorous whole set video elegant ...</td>\n",
       "      <td>1</td>\n",
       "    </tr>\n",
       "  </tbody>\n",
       "</table>\n",
       "</div>"
      ],
      "text/plain": [
       "            Id                                             Review  Label  \\\n",
       "103995  103995  The lectures for this course seem unorganized ...      2   \n",
       "88092    88092  This course was supposed to be the last one be...      1   \n",
       "644        644  The lectures are just videos of the professor ...      1   \n",
       "19564    19564  An exceptional course with extremely well thou...      5   \n",
       "63890    63890  The teacher is very kind and humorous. The who...      5   \n",
       "\n",
       "       sentiment                                             tokens  \\\n",
       "103995  negative  lectur unorgan poor audio content cover lectur...   \n",
       "88092   negative  suppos capston huge amount network basic level...   \n",
       "644     negative    lectur video professor bloviat jefferson academ   \n",
       "19564   positive  except extrem thought inform cleverli laid mod...   \n",
       "63890   positive         teacher kind humor set video eleg gratitud   \n",
       "\n",
       "                                              orig_tokens  y  \n",
       "103995  lectures course seem unorganized often poor au... -1  \n",
       "88092   course supposed last one capstone nothing huge... -1  \n",
       "644     lectures videos professor bloviating jefferson... -1  \n",
       "19564   exceptional course extremely well thought info...  1  \n",
       "63890   teacher kind humorous whole set video elegant ...  1  "
      ]
     },
     "execution_count": 3,
     "metadata": {},
     "output_type": "execute_result"
    }
   ],
   "source": [
    "df['y'] = df.sentiment.replace({'neutral': 0, 'positive': 1, 'negative': -1})\n",
    "df.tail()"
   ]
  },
  {
   "cell_type": "code",
   "execution_count": 4,
   "id": "169b208b",
   "metadata": {},
   "outputs": [
    {
     "data": {
      "text/plain": [
       " 0    5071\n",
       " 1    5000\n",
       "-1    4720\n",
       "Name: y, dtype: int64"
      ]
     },
     "execution_count": 4,
     "metadata": {},
     "output_type": "execute_result"
    }
   ],
   "source": [
    "# somewhat balanced dataset after preprocessing\n",
    "df['y'].value_counts()"
   ]
  },
  {
   "cell_type": "code",
   "execution_count": 5,
   "id": "92ba8a85",
   "metadata": {},
   "outputs": [
    {
     "name": "stdout",
     "output_type": "stream",
     "text": [
      "value counts of y_train is :  0    4563\n",
      " 1    4500\n",
      "-1    4248\n",
      "Name: y, dtype: int64\n"
     ]
    }
   ],
   "source": [
    "# now that our data is balanced, let's split into training and testing set\n",
    "from sklearn.model_selection import train_test_split\n",
    "X_train, X_test, y_train, y_test = train_test_split(df['tokens'], df['y'], \n",
    "                                                    test_size=0.1, \n",
    "                                                    stratify=df['y'],\n",
    "                                                    random_state=8307)\n",
    "print('value counts of y_train is :', y_train.value_counts())"
   ]
  },
  {
   "cell_type": "code",
   "execution_count": 6,
   "id": "c4c3d1b2",
   "metadata": {},
   "outputs": [
    {
     "name": "stdout",
     "output_type": "stream",
     "text": [
      "value counts of y_train is :  0    4563\n",
      " 1    4500\n",
      "-1    4248\n",
      "Name: y, dtype: int64\n"
     ]
    }
   ],
   "source": [
    "X_train_orig, X_test_orig, y_train, y_test = train_test_split(df['orig_tokens'], df['y'], \n",
    "                                                    test_size=0.1, \n",
    "                                                    stratify=df['y'],\n",
    "                                                    random_state=8307)\n",
    "print('value counts of y_train is :', y_train.value_counts())"
   ]
  },
  {
   "cell_type": "code",
   "execution_count": 7,
   "id": "af2933ad",
   "metadata": {},
   "outputs": [
    {
     "data": {
      "text/plain": [
       " 0    508\n",
       " 1    500\n",
       "-1    472\n",
       "Name: y, dtype: int64"
      ]
     },
     "execution_count": 7,
     "metadata": {},
     "output_type": "execute_result"
    }
   ],
   "source": [
    "y_test.value_counts()"
   ]
  },
  {
   "cell_type": "markdown",
   "id": "67af4457",
   "metadata": {},
   "source": [
    "# Different Approaches of Sentiment Analysis\n",
    "- tfidf with Naive Bayes\n",
    "- tdidf with Other ML\n",
    "- word2vec with normal neural network\n",
    "- rnn\n",
    "- cnn\n",
    "- bert transformer"
   ]
  },
  {
   "cell_type": "markdown",
   "id": "b1d93a52",
   "metadata": {},
   "source": [
    "### (1) Naive Bayes with default countVectorizer"
   ]
  },
  {
   "cell_type": "code",
   "execution_count": 8,
   "id": "6de053f7",
   "metadata": {},
   "outputs": [
    {
     "name": "stdout",
     "output_type": "stream",
     "text": [
      "0.4702702702702703\n"
     ]
    }
   ],
   "source": [
    "from nltk.classify import NaiveBayesClassifier\n",
    "from nltk.tokenize import word_tokenize\n",
    "from sklearn.metrics import ConfusionMatrixDisplay\n",
    "\n",
    "# This is how the Naive Bayes classifier expects the input\n",
    "def create_word_features(words):\n",
    "    useful_words = word_tokenize(words)\n",
    "    my_dict = dict([(word, True) for word in useful_words])\n",
    "    return my_dict\n",
    "\n",
    "train_NB = []\n",
    "test_NB = []\n",
    "\n",
    "for x, y in zip(X_train.tolist(), y_train.tolist()):\n",
    "    train_NB.append((create_word_features(x), y))\n",
    "\n",
    "for x, y in zip(X_test.tolist(), y_test.tolist()):\n",
    "    test_NB.append((create_word_features(x), y))\n",
    "\n",
    "classifier = NaiveBayesClassifier.train(train_NB)\n",
    "accuracy = nltk.classify.util.accuracy(classifier, test_NB)\n",
    "print(accuracy)"
   ]
  },
  {
   "cell_type": "markdown",
   "id": "122f9166",
   "metadata": {},
   "source": [
    "### (2) Naive Bayes with tf-idf"
   ]
  },
  {
   "cell_type": "code",
   "execution_count": 9,
   "id": "f3f8651f",
   "metadata": {},
   "outputs": [
    {
     "name": "stdout",
     "output_type": "stream",
     "text": [
      "0.6297297297297297\n"
     ]
    },
    {
     "data": {
      "text/plain": [
       "<sklearn.metrics._plot.confusion_matrix.ConfusionMatrixDisplay at 0x2377472c280>"
      ]
     },
     "execution_count": 9,
     "metadata": {},
     "output_type": "execute_result"
    },
    {
     "data": {
      "image/png": "[encoded data removed]",
      "text/plain": [
       "<Figure size 432x288 with 2 Axes>"
      ]
     },
     "metadata": {
      "needs_background": "light"
     },
     "output_type": "display_data"
    }
   ],
   "source": [
    "from sklearn.feature_extraction.text import TfidfVectorizer\n",
    "from sklearn.metrics import accuracy_score\n",
    "from sklearn.model_selection import cross_val_score\n",
    "from sklearn.naive_bayes import MultinomialNB\n",
    "import seaborn as sns\n",
    "import matplotlib.pyplot as plt\n",
    "\n",
    "# perform text processing before fitting\n",
    "tfid = TfidfVectorizer()\n",
    "tfid.fit(X_train)\n",
    "\n",
    "X_train_tf = tfid.transform(X_train)\n",
    "X_test_tf = tfid.transform(X_test)\n",
    "\n",
    "clf = MultinomialNB()\n",
    "clf.fit(X_train_tf.toarray(), y_train)\n",
    "print(accuracy_score(y_test, clf.predict(X_test_tf.toarray())))\n",
    "ConfusionMatrixDisplay.from_predictions(y_test, clf.predict(X_test_tf.toarray()))"
   ]
  },
  {
   "cell_type": "markdown",
   "id": "073d1670",
   "metadata": {},
   "source": [
    "NB with tf-idf is much much better than default countVectorizer"
   ]
  },
  {
   "cell_type": "markdown",
   "id": "20f308b7",
   "metadata": {},
   "source": [
    "### (3) tf-idf with knn classifier"
   ]
  },
  {
   "cell_type": "code",
   "execution_count": 10,
   "id": "22fb9f41",
   "metadata": {
    "scrolled": false
   },
   "outputs": [
    {
     "data": {
      "image/png": "[encoded data removed]",
      "text/plain": [
       "<Figure size 864x720 with 1 Axes>"
      ]
     },
     "metadata": {
      "needs_background": "light"
     },
     "output_type": "display_data"
    },
    {
     "name": "stdout",
     "output_type": "stream",
     "text": [
      "Final Accuracy: 0.3918918918918919\n"
     ]
    },
    {
     "data": {
      "text/plain": [
       "<sklearn.metrics._plot.confusion_matrix.ConfusionMatrixDisplay at 0x23776b81c10>"
      ]
     },
     "execution_count": 10,
     "metadata": {},
     "output_type": "execute_result"
    },
    {
     "data": {
      "image/png": "[encoded data removed]",
      "text/plain": [
       "<Figure size 432x288 with 2 Axes>"
      ]
     },
     "metadata": {
      "needs_background": "light"
     },
     "output_type": "display_data"
    }
   ],
   "source": [
    "from sklearn.neighbors import KNeighborsClassifier\n",
    "\n",
    "neighbors = [2, 5, 10, 20]\n",
    "knn_names = ['neighbor_{}'.format(n) for n in neighbors]\n",
    "models = [KNeighborsClassifier(n_neighbors=n, p=2, metric='minkowski') for n in neighbors]\n",
    "\n",
    "scores = []\n",
    "\n",
    "for name, model in zip(knn_names, models):\n",
    "    model_name = name\n",
    "    model_scores = cross_val_score(estimator=model, X=X_train_tf.toarray(), \n",
    "                                   y=y_train, cv=5, scoring='accuracy')\n",
    "    for fold_idx, score in enumerate(model_scores):\n",
    "        scores.append((model_name, fold_idx, score))\n",
    "\n",
    "cv_df = pd.DataFrame(scores, columns=['name', \"fold_idx\", \"Accuracy\"])\n",
    "\n",
    "fig, ax = plt.subplots(figsize=(12,10))\n",
    "sns.boxplot(x='name', y='Accuracy', data=cv_df)\n",
    "sns.stripplot(x='name', y='Accuracy', data=cv_df, size=8, jitter=True, edgecolor='gray', linewidth=2)\n",
    "plt.show()\n",
    "\n",
    "final_knn = KNeighborsClassifier(n_neighbors=5, p=2, metric='minkowski')\n",
    "final_knn.fit(X_train_tf.toarray(), y_train)\n",
    "print (\"Final Accuracy: %s\" \n",
    "       % accuracy_score(y_test, final_knn.predict(X_test_tf.toarray())))\n",
    "ConfusionMatrixDisplay.from_predictions(y_test, final_knn.predict(X_test_tf.toarray()))"
   ]
  },
  {
   "cell_type": "markdown",
   "id": "70ac5b35",
   "metadata": {},
   "source": [
    "KNN doesn't work well in this case"
   ]
  },
  {
   "cell_type": "markdown",
   "id": "0ae0a0ec",
   "metadata": {},
   "source": [
    "### (4) N-gram with logistic regression"
   ]
  },
  {
   "cell_type": "code",
   "execution_count": 11,
   "id": "4de09f48",
   "metadata": {
    "scrolled": true
   },
   "outputs": [
    {
     "name": "stderr",
     "output_type": "stream",
     "text": [
      "C:\\Users\\jordan.yew\\anaconda3\\envs\\nlp\\lib\\site-packages\\sklearn\\linear_model\\_logistic.py:444: ConvergenceWarning: lbfgs failed to converge (status=1):\n",
      "STOP: TOTAL NO. of ITERATIONS REACHED LIMIT.\n",
      "\n",
      "Increase the number of iterations (max_iter) or scale the data as shown in:\n",
      "    https://scikit-learn.org/stable/modules/preprocessing.html\n",
      "Please also refer to the documentation for alternative solver options:\n",
      "    https://scikit-learn.org/stable/modules/linear_model.html#logistic-regression\n",
      "  n_iter_i = _check_optimize_result(\n",
      "C:\\Users\\jordan.yew\\anaconda3\\envs\\nlp\\lib\\site-packages\\sklearn\\linear_model\\_logistic.py:444: ConvergenceWarning: lbfgs failed to converge (status=1):\n",
      "STOP: TOTAL NO. of ITERATIONS REACHED LIMIT.\n",
      "\n",
      "Increase the number of iterations (max_iter) or scale the data as shown in:\n",
      "    https://scikit-learn.org/stable/modules/preprocessing.html\n",
      "Please also refer to the documentation for alternative solver options:\n",
      "    https://scikit-learn.org/stable/modules/linear_model.html#logistic-regression\n",
      "  n_iter_i = _check_optimize_result(\n",
      "C:\\Users\\jordan.yew\\anaconda3\\envs\\nlp\\lib\\site-packages\\sklearn\\linear_model\\_logistic.py:444: ConvergenceWarning: lbfgs failed to converge (status=1):\n",
      "STOP: TOTAL NO. of ITERATIONS REACHED LIMIT.\n",
      "\n",
      "Increase the number of iterations (max_iter) or scale the data as shown in:\n",
      "    https://scikit-learn.org/stable/modules/preprocessing.html\n",
      "Please also refer to the documentation for alternative solver options:\n",
      "    https://scikit-learn.org/stable/modules/linear_model.html#logistic-regression\n",
      "  n_iter_i = _check_optimize_result(\n",
      "C:\\Users\\jordan.yew\\anaconda3\\envs\\nlp\\lib\\site-packages\\sklearn\\linear_model\\_logistic.py:444: ConvergenceWarning: lbfgs failed to converge (status=1):\n",
      "STOP: TOTAL NO. of ITERATIONS REACHED LIMIT.\n",
      "\n",
      "Increase the number of iterations (max_iter) or scale the data as shown in:\n",
      "    https://scikit-learn.org/stable/modules/preprocessing.html\n",
      "Please also refer to the documentation for alternative solver options:\n",
      "    https://scikit-learn.org/stable/modules/linear_model.html#logistic-regression\n",
      "  n_iter_i = _check_optimize_result(\n",
      "C:\\Users\\jordan.yew\\anaconda3\\envs\\nlp\\lib\\site-packages\\sklearn\\linear_model\\_logistic.py:444: ConvergenceWarning: lbfgs failed to converge (status=1):\n",
      "STOP: TOTAL NO. of ITERATIONS REACHED LIMIT.\n",
      "\n",
      "Increase the number of iterations (max_iter) or scale the data as shown in:\n",
      "    https://scikit-learn.org/stable/modules/preprocessing.html\n",
      "Please also refer to the documentation for alternative solver options:\n",
      "    https://scikit-learn.org/stable/modules/linear_model.html#logistic-regression\n",
      "  n_iter_i = _check_optimize_result(\n",
      "C:\\Users\\jordan.yew\\anaconda3\\envs\\nlp\\lib\\site-packages\\sklearn\\linear_model\\_logistic.py:444: ConvergenceWarning: lbfgs failed to converge (status=1):\n",
      "STOP: TOTAL NO. of ITERATIONS REACHED LIMIT.\n",
      "\n",
      "Increase the number of iterations (max_iter) or scale the data as shown in:\n",
      "    https://scikit-learn.org/stable/modules/preprocessing.html\n",
      "Please also refer to the documentation for alternative solver options:\n",
      "    https://scikit-learn.org/stable/modules/linear_model.html#logistic-regression\n",
      "  n_iter_i = _check_optimize_result(\n",
      "C:\\Users\\jordan.yew\\anaconda3\\envs\\nlp\\lib\\site-packages\\sklearn\\linear_model\\_logistic.py:444: ConvergenceWarning: lbfgs failed to converge (status=1):\n",
      "STOP: TOTAL NO. of ITERATIONS REACHED LIMIT.\n",
      "\n",
      "Increase the number of iterations (max_iter) or scale the data as shown in:\n",
      "    https://scikit-learn.org/stable/modules/preprocessing.html\n",
      "Please also refer to the documentation for alternative solver options:\n",
      "    https://scikit-learn.org/stable/modules/linear_model.html#logistic-regression\n",
      "  n_iter_i = _check_optimize_result(\n",
      "C:\\Users\\jordan.yew\\anaconda3\\envs\\nlp\\lib\\site-packages\\sklearn\\linear_model\\_logistic.py:444: ConvergenceWarning: lbfgs failed to converge (status=1):\n",
      "STOP: TOTAL NO. of ITERATIONS REACHED LIMIT.\n",
      "\n",
      "Increase the number of iterations (max_iter) or scale the data as shown in:\n",
      "    https://scikit-learn.org/stable/modules/preprocessing.html\n",
      "Please also refer to the documentation for alternative solver options:\n",
      "    https://scikit-learn.org/stable/modules/linear_model.html#logistic-regression\n",
      "  n_iter_i = _check_optimize_result(\n",
      "C:\\Users\\jordan.yew\\anaconda3\\envs\\nlp\\lib\\site-packages\\sklearn\\linear_model\\_logistic.py:444: ConvergenceWarning: lbfgs failed to converge (status=1):\n",
      "STOP: TOTAL NO. of ITERATIONS REACHED LIMIT.\n",
      "\n",
      "Increase the number of iterations (max_iter) or scale the data as shown in:\n",
      "    https://scikit-learn.org/stable/modules/preprocessing.html\n",
      "Please also refer to the documentation for alternative solver options:\n",
      "    https://scikit-learn.org/stable/modules/linear_model.html#logistic-regression\n",
      "  n_iter_i = _check_optimize_result(\n"
     ]
    },
    {
     "data": {
      "image/png": "[encoded data removed]",
      "text/plain": [
       "<Figure size 864x720 with 1 Axes>"
      ]
     },
     "metadata": {
      "needs_background": "light"
     },
     "output_type": "display_data"
    },
    {
     "name": "stdout",
     "output_type": "stream",
     "text": [
      "Final Accuracy: 0.6533783783783784\n"
     ]
    },
    {
     "data": {
      "text/plain": [
       "<sklearn.metrics._plot.confusion_matrix.ConfusionMatrixDisplay at 0x2377a250e50>"
      ]
     },
     "execution_count": 11,
     "metadata": {},
     "output_type": "execute_result"
    },
    {
     "data": {
      "image/png": "[encoded data removed]",
      "text/plain": [
       "<Figure size 432x288 with 2 Axes>"
      ]
     },
     "metadata": {
      "needs_background": "light"
     },
     "output_type": "display_data"
    }
   ],
   "source": [
    "from sklearn.feature_extraction.text import CountVectorizer\n",
    "from sklearn.linear_model import LogisticRegression\n",
    "\n",
    "ngram_vectorizer = CountVectorizer(binary=True, ngram_range=(1, 2))\n",
    "ngram_vectorizer.fit(X_train)\n",
    "X_train_ngram = ngram_vectorizer.transform(X_train)\n",
    "X_test_ngram = ngram_vectorizer.transform(X_test)\n",
    "\n",
    "Cs = [0.01, 0.05, 0.25, 0.5, 1]\n",
    "lr_names = ['logistic_{}'.format(c) for c in Cs]\n",
    "models = [LogisticRegression(C=c) for c in Cs]\n",
    "\n",
    "scores = []\n",
    "\n",
    "for name, model in zip(lr_names, models):\n",
    "    model_name = name\n",
    "    model_scores = cross_val_score(estimator=model, X=X_train_ngram, \n",
    "                                   y=y_train, cv=5, scoring='accuracy')\n",
    "    for fold_idx, score in enumerate(model_scores):\n",
    "        scores.append((model_name, fold_idx, score))\n",
    "\n",
    "cv_df = pd.DataFrame(scores, columns=['name', \"fold_idx\", \"Accuracy\"])\n",
    "\n",
    "fig, ax = plt.subplots(figsize=(12,10))\n",
    "sns.boxplot(x='name', y='Accuracy', data=cv_df)\n",
    "sns.stripplot(x='name', y='Accuracy', data=cv_df, size=8, jitter=True, edgecolor='gray', linewidth=2)\n",
    "plt.show()\n",
    "    \n",
    "final_ngram = LogisticRegression(C=0.25)\n",
    "final_ngram.fit(X_train_ngram, y_train)\n",
    "print (\"Final Accuracy: %s\" \n",
    "       % accuracy_score(y_test, final_ngram.predict(X_test_ngram)))\n",
    "ConfusionMatrixDisplay.from_predictions(y_test, final_ngram.predict(X_test_ngram))"
   ]
  },
  {
   "cell_type": "markdown",
   "id": "b759d20d",
   "metadata": {},
   "source": [
    "Better than the previous algorithms"
   ]
  },
  {
   "cell_type": "markdown",
   "id": "87c1b406",
   "metadata": {},
   "source": [
    "### (5) tf-idf with logistic regression"
   ]
  },
  {
   "cell_type": "code",
   "execution_count": 12,
   "id": "aa2e9ac3",
   "metadata": {},
   "outputs": [
    {
     "name": "stderr",
     "output_type": "stream",
     "text": [
      "C:\\Users\\jordan.yew\\anaconda3\\envs\\nlp\\lib\\site-packages\\sklearn\\linear_model\\_logistic.py:444: ConvergenceWarning: lbfgs failed to converge (status=1):\n",
      "STOP: TOTAL NO. of ITERATIONS REACHED LIMIT.\n",
      "\n",
      "Increase the number of iterations (max_iter) or scale the data as shown in:\n",
      "    https://scikit-learn.org/stable/modules/preprocessing.html\n",
      "Please also refer to the documentation for alternative solver options:\n",
      "    https://scikit-learn.org/stable/modules/linear_model.html#logistic-regression\n",
      "  n_iter_i = _check_optimize_result(\n",
      "C:\\Users\\jordan.yew\\anaconda3\\envs\\nlp\\lib\\site-packages\\sklearn\\linear_model\\_logistic.py:444: ConvergenceWarning: lbfgs failed to converge (status=1):\n",
      "STOP: TOTAL NO. of ITERATIONS REACHED LIMIT.\n",
      "\n",
      "Increase the number of iterations (max_iter) or scale the data as shown in:\n",
      "    https://scikit-learn.org/stable/modules/preprocessing.html\n",
      "Please also refer to the documentation for alternative solver options:\n",
      "    https://scikit-learn.org/stable/modules/linear_model.html#logistic-regression\n",
      "  n_iter_i = _check_optimize_result(\n",
      "C:\\Users\\jordan.yew\\anaconda3\\envs\\nlp\\lib\\site-packages\\sklearn\\linear_model\\_logistic.py:444: ConvergenceWarning: lbfgs failed to converge (status=1):\n",
      "STOP: TOTAL NO. of ITERATIONS REACHED LIMIT.\n",
      "\n",
      "Increase the number of iterations (max_iter) or scale the data as shown in:\n",
      "    https://scikit-learn.org/stable/modules/preprocessing.html\n",
      "Please also refer to the documentation for alternative solver options:\n",
      "    https://scikit-learn.org/stable/modules/linear_model.html#logistic-regression\n",
      "  n_iter_i = _check_optimize_result(\n",
      "C:\\Users\\jordan.yew\\anaconda3\\envs\\nlp\\lib\\site-packages\\sklearn\\linear_model\\_logistic.py:444: ConvergenceWarning: lbfgs failed to converge (status=1):\n",
      "STOP: TOTAL NO. of ITERATIONS REACHED LIMIT.\n",
      "\n",
      "Increase the number of iterations (max_iter) or scale the data as shown in:\n",
      "    https://scikit-learn.org/stable/modules/preprocessing.html\n",
      "Please also refer to the documentation for alternative solver options:\n",
      "    https://scikit-learn.org/stable/modules/linear_model.html#logistic-regression\n",
      "  n_iter_i = _check_optimize_result(\n",
      "C:\\Users\\jordan.yew\\anaconda3\\envs\\nlp\\lib\\site-packages\\sklearn\\linear_model\\_logistic.py:444: ConvergenceWarning: lbfgs failed to converge (status=1):\n",
      "STOP: TOTAL NO. of ITERATIONS REACHED LIMIT.\n",
      "\n",
      "Increase the number of iterations (max_iter) or scale the data as shown in:\n",
      "    https://scikit-learn.org/stable/modules/preprocessing.html\n",
      "Please also refer to the documentation for alternative solver options:\n",
      "    https://scikit-learn.org/stable/modules/linear_model.html#logistic-regression\n",
      "  n_iter_i = _check_optimize_result(\n"
     ]
    },
    {
     "data": {
      "image/png": "[encoded data removed]",
      "text/plain": [
       "<Figure size 864x720 with 1 Axes>"
      ]
     },
     "metadata": {
      "needs_background": "light"
     },
     "output_type": "display_data"
    },
    {
     "name": "stdout",
     "output_type": "stream",
     "text": [
      "Final Accuracy: 0.654054054054054\n"
     ]
    },
    {
     "data": {
      "text/plain": [
       "<sklearn.metrics._plot.confusion_matrix.ConfusionMatrixDisplay at 0x23779f55970>"
      ]
     },
     "execution_count": 12,
     "metadata": {},
     "output_type": "execute_result"
    },
    {
     "data": {
      "image/png": "[encoded data removed]",
      "text/plain": [
       "<Figure size 432x288 with 2 Axes>"
      ]
     },
     "metadata": {
      "needs_background": "light"
     },
     "output_type": "display_data"
    }
   ],
   "source": [
    "from sklearn.linear_model import LogisticRegression\n",
    "\n",
    "Cs = [0.01, 0.05, 0.25, 0.5, 1]\n",
    "lr_names = ['logistic_tf_{}'.format(c) for c in Cs]\n",
    "models = [LogisticRegression(C=c) for c in Cs]\n",
    "\n",
    "scores = []\n",
    "\n",
    "for name, model in zip(lr_names, models):\n",
    "    model_name = name\n",
    "    model_scores = cross_val_score(estimator=model, X=X_train_tf.toarray(), \n",
    "                                   y=y_train, cv=5, scoring='accuracy')\n",
    "    for fold_idx, score in enumerate(model_scores):\n",
    "        scores.append((model_name, fold_idx, score))\n",
    "\n",
    "cv_df = pd.DataFrame(scores, columns=['name', \"fold_idx\", \"Accuracy\"])\n",
    "\n",
    "fig, ax = plt.subplots(figsize=(12,10))\n",
    "sns.boxplot(x='name', y='Accuracy', data=cv_df)\n",
    "sns.stripplot(x='name', y='Accuracy', data=cv_df, size=8, jitter=True, edgecolor='gray', linewidth=2)\n",
    "plt.show()\n",
    "    \n",
    "final_lr_tf = LogisticRegression(C=0.25)\n",
    "final_lr_tf.fit(X_train_tf.toarray(), y_train)\n",
    "print (\"Final Accuracy: %s\" \n",
    "       % accuracy_score(y_test, final_lr_tf.predict(X_test_tf.toarray())))\n",
    "ConfusionMatrixDisplay.from_predictions(y_test, final_lr_tf.predict(X_test_tf.toarray()))"
   ]
  },
  {
   "cell_type": "markdown",
   "id": "9c3af481",
   "metadata": {},
   "source": [
    "Almost the same with ngram embedding"
   ]
  },
  {
   "cell_type": "markdown",
   "id": "557edb01",
   "metadata": {},
   "source": [
    "### (4) word2vec with CNN"
   ]
  },
  {
   "cell_type": "code",
   "execution_count": 56,
   "id": "b31f36de",
   "metadata": {},
   "outputs": [
    {
     "data": {
      "text/html": [
       "<div>\n",
       "<style scoped>\n",
       "    .dataframe tbody tr th:only-of-type {\n",
       "        vertical-align: middle;\n",
       "    }\n",
       "\n",
       "    .dataframe tbody tr th {\n",
       "        vertical-align: top;\n",
       "    }\n",
       "\n",
       "    .dataframe thead th {\n",
       "        text-align: right;\n",
       "    }\n",
       "</style>\n",
       "<table border=\"1\" class=\"dataframe\">\n",
       "  <thead>\n",
       "    <tr style=\"text-align: right;\">\n",
       "      <th></th>\n",
       "      <th>-1</th>\n",
       "      <th>0</th>\n",
       "      <th>1</th>\n",
       "    </tr>\n",
       "  </thead>\n",
       "  <tbody>\n",
       "    <tr>\n",
       "      <th>1827</th>\n",
       "      <td>0</td>\n",
       "      <td>0</td>\n",
       "      <td>1</td>\n",
       "    </tr>\n",
       "    <tr>\n",
       "      <th>65762</th>\n",
       "      <td>0</td>\n",
       "      <td>0</td>\n",
       "      <td>1</td>\n",
       "    </tr>\n",
       "    <tr>\n",
       "      <th>49171</th>\n",
       "      <td>0</td>\n",
       "      <td>0</td>\n",
       "      <td>1</td>\n",
       "    </tr>\n",
       "    <tr>\n",
       "      <th>101213</th>\n",
       "      <td>1</td>\n",
       "      <td>0</td>\n",
       "      <td>0</td>\n",
       "    </tr>\n",
       "    <tr>\n",
       "      <th>30080</th>\n",
       "      <td>0</td>\n",
       "      <td>0</td>\n",
       "      <td>1</td>\n",
       "    </tr>\n",
       "  </tbody>\n",
       "</table>\n",
       "</div>"
      ],
      "text/plain": [
       "        -1   0   1\n",
       "1827     0   0   1\n",
       "65762    0   0   1\n",
       "49171    0   0   1\n",
       "101213   1   0   0\n",
       "30080    0   0   1"
      ]
     },
     "execution_count": 56,
     "metadata": {},
     "output_type": "execute_result"
    }
   ],
   "source": [
    "y_train_onehot = pd.get_dummies(y_train)\n",
    "y_test_onehot = pd.get_dummies(y_test)\n",
    "y_test_onehot.tail()"
   ]
  },
  {
   "cell_type": "markdown",
   "id": "94a17fe4",
   "metadata": {},
   "source": [
    "### (5) word2vec with RNN"
   ]
  },
  {
   "cell_type": "code",
   "execution_count": null,
   "id": "80cf0497",
   "metadata": {},
   "outputs": [],
   "source": []
  },
  {
   "cell_type": "markdown",
   "id": "ff0de6bb",
   "metadata": {},
   "source": [
    "### (6) BERT Transformer"
   ]
  },
  {
   "cell_type": "code",
   "execution_count": null,
   "id": "282d71d5",
   "metadata": {},
   "outputs": [],
   "source": [
    "# USE this for BERT \n",
    "######## X_train_orig, X_test_orig, y_train, y_test ###########"
   ]
  },
  {
   "cell_type": "code",
   "execution_count": null,
   "id": "8de2de35",
   "metadata": {},
   "outputs": [],
   "source": []
  }
 ],
 "metadata": {
  "kernelspec": {
   "display_name": "Python 3 (ipykernel)",
   "language": "python",
   "name": "python3"
  },
  "language_info": {
   "codemirror_mode": {
    "name": "ipython",
    "version": 3
   },
   "file_extension": ".py",
   "mimetype": "text/x-python",
   "name": "python",
   "nbconvert_exporter": "python",
   "pygments_lexer": "ipython3",
   "version": "3.8.13"
  }
 },
 "nbformat": 4,
 "nbformat_minor": 5
}
