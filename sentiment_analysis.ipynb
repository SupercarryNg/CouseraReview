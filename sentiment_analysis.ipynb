{
 "cells": [
  {
   "cell_type": "code",
   "execution_count": 1,
   "id": "5f871650",
   "metadata": {},
   "outputs": [
    {
     "name": "stderr",
     "output_type": "stream",
     "text": [
      "C:\\Users\\jordan.yew\\anaconda3\\envs\\nlp\\lib\\site-packages\\tqdm\\auto.py:22: TqdmWarning: IProgress not found. Please update jupyter and ipywidgets. See https://ipywidgets.readthedocs.io/en/stable/user_install.html\n",
      "  from .autonotebook import tqdm as notebook_tqdm\n"
     ]
    }
   ],
   "source": [
    "import pandas as pd\n",
    "import numpy as np\n",
    "import dataset"
   ]
  },
  {
   "cell_type": "markdown",
   "id": "871bc627",
   "metadata": {},
   "source": [
    "# Preprocessing of Input Data"
   ]
  },
  {
   "cell_type": "code",
   "execution_count": 3,
   "id": "35665d3c",
   "metadata": {},
   "outputs": [],
   "source": [
    "df_original = pd.read_csv('data/reviews.csv')"
   ]
  },
  {
   "cell_type": "code",
   "execution_count": 18,
   "id": "e57e14e5",
   "metadata": {},
   "outputs": [
    {
     "data": {
      "text/html": [
       "<div>\n",
       "<style scoped>\n",
       "    .dataframe tbody tr th:only-of-type {\n",
       "        vertical-align: middle;\n",
       "    }\n",
       "\n",
       "    .dataframe tbody tr th {\n",
       "        vertical-align: top;\n",
       "    }\n",
       "\n",
       "    .dataframe thead th {\n",
       "        text-align: right;\n",
       "    }\n",
       "</style>\n",
       "<table border=\"1\" class=\"dataframe\">\n",
       "  <thead>\n",
       "    <tr style=\"text-align: right;\">\n",
       "      <th></th>\n",
       "      <th>Id</th>\n",
       "      <th>Review</th>\n",
       "      <th>Label</th>\n",
       "      <th>y</th>\n",
       "    </tr>\n",
       "  </thead>\n",
       "  <tbody>\n",
       "    <tr>\n",
       "      <th>107013</th>\n",
       "      <td>107013</td>\n",
       "      <td>Trendy topic with talks from expertises in the...</td>\n",
       "      <td>4</td>\n",
       "      <td>2</td>\n",
       "    </tr>\n",
       "    <tr>\n",
       "      <th>107014</th>\n",
       "      <td>107014</td>\n",
       "      <td>Wonderful! Simple and clear language, good ins...</td>\n",
       "      <td>5</td>\n",
       "      <td>2</td>\n",
       "    </tr>\n",
       "    <tr>\n",
       "      <th>107015</th>\n",
       "      <td>107015</td>\n",
       "      <td>an interesting and fun course. thanks. dr quincy</td>\n",
       "      <td>5</td>\n",
       "      <td>2</td>\n",
       "    </tr>\n",
       "    <tr>\n",
       "      <th>107016</th>\n",
       "      <td>107016</td>\n",
       "      <td>very broad perspective, up to date information...</td>\n",
       "      <td>4</td>\n",
       "      <td>2</td>\n",
       "    </tr>\n",
       "    <tr>\n",
       "      <th>107017</th>\n",
       "      <td>107017</td>\n",
       "      <td>An informative course on the social and financ...</td>\n",
       "      <td>4</td>\n",
       "      <td>2</td>\n",
       "    </tr>\n",
       "  </tbody>\n",
       "</table>\n",
       "</div>"
      ],
      "text/plain": [
       "            Id                                             Review  Label  y\n",
       "107013  107013  Trendy topic with talks from expertises in the...      4  2\n",
       "107014  107014  Wonderful! Simple and clear language, good ins...      5  2\n",
       "107015  107015   an interesting and fun course. thanks. dr quincy      5  2\n",
       "107016  107016  very broad perspective, up to date information...      4  2\n",
       "107017  107017  An informative course on the social and financ...      4  2"
      ]
     },
     "execution_count": 18,
     "metadata": {},
     "output_type": "execute_result"
    }
   ],
   "source": [
    "df = df_original.copy()\n",
    "df['y'] = df.Label.replace({1: 0, 2: 0, 3: 1, 4: 2, 5: 2})\n",
    "df.tail()"
   ]
  },
  {
   "cell_type": "code",
   "execution_count": 19,
   "id": "169b208b",
   "metadata": {},
   "outputs": [
    {
     "data": {
      "text/plain": [
       "2    97227\n",
       "1     5071\n",
       "0     4720\n",
       "Name: y, dtype: int64"
      ]
     },
     "execution_count": 19,
     "metadata": {},
     "output_type": "execute_result"
    }
   ],
   "source": [
    "df['y'].value_counts()"
   ]
  },
  {
   "cell_type": "markdown",
   "id": "74b20c73",
   "metadata": {},
   "source": [
    "Looks like we have a highly imbalanced data"
   ]
  },
  {
   "cell_type": "code",
   "execution_count": 20,
   "id": "28bbe531",
   "metadata": {},
   "outputs": [
    {
     "name": "stderr",
     "output_type": "stream",
     "text": [
      "[nltk_data] Downloading package stopwords to\n",
      "[nltk_data]     C:\\Users\\jordan.yew\\AppData\\Roaming\\nltk_data...\n",
      "[nltk_data]   Package stopwords is already up-to-date!\n",
      "[nltk_data] Downloading package wordnet to\n",
      "[nltk_data]     C:\\Users\\jordan.yew\\AppData\\Roaming\\nltk_data...\n",
      "[nltk_data]   Package wordnet is already up-to-date!\n",
      "[nltk_data] Downloading package omw-1.4 to\n",
      "[nltk_data]     C:\\Users\\jordan.yew\\AppData\\Roaming\\nltk_data...\n",
      "[nltk_data]   Package omw-1.4 is already up-to-date!\n"
     ]
    }
   ],
   "source": [
    "# text preprocessing part\n",
    "import re\n",
    "import nltk\n",
    "nltk.download('stopwords')\n",
    "nltk.download('wordnet')\n",
    "nltk.download('omw-1.4')\n",
    "\n",
    "from nltk.corpus import stopwords\n",
    "from nltk.stem import WordNetLemmatizer\n",
    "from nltk.stem.porter import PorterStemmer\n",
    "\n",
    "stemmer = WordNetLemmatizer()\n",
    "porter = PorterStemmer()\n",
    "STOPWORDS = set(stopwords.words('english'))\n",
    "\n",
    "def preprocessingText(corpus, lowercase=True, rmPunctuation=True, rpURL=True, rpNumber=True, stemming=True):\n",
    "    \"\"\"Input is assumed to be vector of documents\"\"\"\n",
    "    documents = []\n",
    "    for text in corpus:\n",
    "        document = text\n",
    "        \n",
    "        # HYPERPARAMETER\n",
    "        # Converting to Lowercase\n",
    "        if lowercase:\n",
    "            document = document.lower()\n",
    "\n",
    "        # replace URL\n",
    "        if rpURL:\n",
    "            # replace URL\n",
    "            document = re.sub(r'http\\S+', 'url', document, flags=re.MULTILINE)\n",
    "\n",
    "        # replace numbers\n",
    "        if rpNumber:\n",
    "            document = re.sub(\"\\d+\", \"number\", document)\n",
    "\n",
    "        # remove all special characters including punctuation\n",
    "        if rmPunctuation:\n",
    "            # only keep word\n",
    "            document = re.sub(r'\\W', ' ', document)\n",
    "            # remove all single characters\n",
    "            document = re.sub(r'\\s+[a-zA-Z]\\s+', ' ', document)\n",
    "            # Remove single characters from the start\n",
    "            document = re.sub(r'\\^[a-zA-Z]\\s+', ' ', document)\n",
    "\n",
    "        # OTHER PREPROCESSING METHODS\n",
    "        # Substituting multiple spaces with single space\n",
    "        document = re.sub(r'\\s+', ' ', document, flags=re.I)\n",
    "        # Removing prefixed 'b'\n",
    "        document = re.sub(r'^b\\s+', '', document)\n",
    "        \n",
    "        # removing stopwords\n",
    "        document = document.split()\n",
    "        document = [word for word in document if word not in STOPWORDS]\n",
    "\n",
    "        if stemming:\n",
    "            # Lemmatization\n",
    "            document = [stemmer.lemmatize(word) for word in document]\n",
    "            # stemming\n",
    "            document = [porter.stem(word) for word in document]\n",
    "\n",
    "        document = ' '.join(document)\n",
    "        documents.append(document)\n",
    "    return documents"
   ]
  },
  {
   "cell_type": "code",
   "execution_count": 21,
   "id": "9c17aa9f",
   "metadata": {},
   "outputs": [
    {
     "name": "stdout",
     "output_type": "stream",
     "text": [
      "107013    trendi topic talk expertis field cover area in...\n",
      "107014    wonder simpl clear languag good instructor gre...\n",
      "107015                   interest fun cours thank dr quinci\n",
      "107016    broad perspect date inform use link video good...\n",
      "107017    inform cours social financi implic due zika we...\n",
      "Name: text, dtype: object\n"
     ]
    }
   ],
   "source": [
    "df['text'] = preprocessingText(df.Review)\n",
    "print(df.tail().text)"
   ]
  },
  {
   "cell_type": "code",
   "execution_count": 25,
   "id": "39a0b012",
   "metadata": {},
   "outputs": [
    {
     "data": {
      "text/html": [
       "<div>\n",
       "<style scoped>\n",
       "    .dataframe tbody tr th:only-of-type {\n",
       "        vertical-align: middle;\n",
       "    }\n",
       "\n",
       "    .dataframe tbody tr th {\n",
       "        vertical-align: top;\n",
       "    }\n",
       "\n",
       "    .dataframe thead th {\n",
       "        text-align: right;\n",
       "    }\n",
       "</style>\n",
       "<table border=\"1\" class=\"dataframe\">\n",
       "  <thead>\n",
       "    <tr style=\"text-align: right;\">\n",
       "      <th></th>\n",
       "      <th>Id</th>\n",
       "      <th>Review</th>\n",
       "      <th>Label</th>\n",
       "      <th>y</th>\n",
       "      <th>text</th>\n",
       "    </tr>\n",
       "  </thead>\n",
       "  <tbody>\n",
       "    <tr>\n",
       "      <th>67348</th>\n",
       "      <td>67348</td>\n",
       "      <td>The course is very interesting. In the beginni...</td>\n",
       "      <td>5</td>\n",
       "      <td>2</td>\n",
       "      <td>cours interest begin seem bit heavi neurosci i...</td>\n",
       "    </tr>\n",
       "    <tr>\n",
       "      <th>38747</th>\n",
       "      <td>38747</td>\n",
       "      <td>Considering that internet and media regulation...</td>\n",
       "      <td>5</td>\n",
       "      <td>2</td>\n",
       "      <td>consid internet medium regul hot topic polici ...</td>\n",
       "    </tr>\n",
       "    <tr>\n",
       "      <th>17832</th>\n",
       "      <td>17832</td>\n",
       "      <td>Quite useful for introducing Data Science. I w...</td>\n",
       "      <td>5</td>\n",
       "      <td>2</td>\n",
       "      <td>quit use introduc data scienc enrol data scien...</td>\n",
       "    </tr>\n",
       "    <tr>\n",
       "      <th>65168</th>\n",
       "      <td>65168</td>\n",
       "      <td>Great course!This course is perfect for beginn...</td>\n",
       "      <td>5</td>\n",
       "      <td>2</td>\n",
       "      <td>great cours cours perfect beginn interest lear...</td>\n",
       "    </tr>\n",
       "    <tr>\n",
       "      <th>46273</th>\n",
       "      <td>46273</td>\n",
       "      <td>Very useful and effective</td>\n",
       "      <td>4</td>\n",
       "      <td>2</td>\n",
       "      <td>use effect</td>\n",
       "    </tr>\n",
       "    <tr>\n",
       "      <th>...</th>\n",
       "      <td>...</td>\n",
       "      <td>...</td>\n",
       "      <td>...</td>\n",
       "      <td>...</td>\n",
       "      <td>...</td>\n",
       "    </tr>\n",
       "    <tr>\n",
       "      <th>83880</th>\n",
       "      <td>83880</td>\n",
       "      <td>It's a very good course. I learn more about th...</td>\n",
       "      <td>5</td>\n",
       "      <td>2</td>\n",
       "      <td>good cours learn lesson thank teacher lesson</td>\n",
       "    </tr>\n",
       "    <tr>\n",
       "      <th>30829</th>\n",
       "      <td>30829</td>\n",
       "      <td>This is a really good start.</td>\n",
       "      <td>5</td>\n",
       "      <td>2</td>\n",
       "      <td>realli good start</td>\n",
       "    </tr>\n",
       "    <tr>\n",
       "      <th>8588</th>\n",
       "      <td>8588</td>\n",
       "      <td>good for basic knowledge in cancer biology.</td>\n",
       "      <td>5</td>\n",
       "      <td>2</td>\n",
       "      <td>good basic knowledg cancer biolog</td>\n",
       "    </tr>\n",
       "    <tr>\n",
       "      <th>91826</th>\n",
       "      <td>91826</td>\n",
       "      <td>Fantastic course as always from the legendary ...</td>\n",
       "      <td>5</td>\n",
       "      <td>2</td>\n",
       "      <td>fantast cours alway legendari dr chuck</td>\n",
       "    </tr>\n",
       "    <tr>\n",
       "      <th>23564</th>\n",
       "      <td>23564</td>\n",
       "      <td>Love it!!! Very educative and well resourced.</td>\n",
       "      <td>5</td>\n",
       "      <td>2</td>\n",
       "      <td>love educ well resourc</td>\n",
       "    </tr>\n",
       "  </tbody>\n",
       "</table>\n",
       "<p>5071 rows × 5 columns</p>\n",
       "</div>"
      ],
      "text/plain": [
       "          Id                                             Review  Label  y  \\\n",
       "67348  67348  The course is very interesting. In the beginni...      5  2   \n",
       "38747  38747  Considering that internet and media regulation...      5  2   \n",
       "17832  17832  Quite useful for introducing Data Science. I w...      5  2   \n",
       "65168  65168  Great course!This course is perfect for beginn...      5  2   \n",
       "46273  46273                          Very useful and effective      4  2   \n",
       "...      ...                                                ...    ... ..   \n",
       "83880  83880  It's a very good course. I learn more about th...      5  2   \n",
       "30829  30829                       This is a really good start.      5  2   \n",
       "8588    8588        good for basic knowledge in cancer biology.      5  2   \n",
       "91826  91826  Fantastic course as always from the legendary ...      5  2   \n",
       "23564  23564      Love it!!! Very educative and well resourced.      5  2   \n",
       "\n",
       "                                                    text  \n",
       "67348  cours interest begin seem bit heavi neurosci i...  \n",
       "38747  consid internet medium regul hot topic polici ...  \n",
       "17832  quit use introduc data scienc enrol data scien...  \n",
       "65168  great cours cours perfect beginn interest lear...  \n",
       "46273                                         use effect  \n",
       "...                                                  ...  \n",
       "83880       good cours learn lesson thank teacher lesson  \n",
       "30829                                  realli good start  \n",
       "8588                   good basic knowledg cancer biolog  \n",
       "91826             fantast cours alway legendari dr chuck  \n",
       "23564                             love educ well resourc  \n",
       "\n",
       "[5071 rows x 5 columns]"
      ]
     },
     "execution_count": 25,
     "metadata": {},
     "output_type": "execute_result"
    }
   ],
   "source": [
    "# let's make the data balanced first\n",
    "np.random.seed(8307)\n",
    "positive_indices = df[df.y == 2].index\n",
    "random_indices = np.random.choice(positive_indices, 5071, replace=False)\n",
    "positive_sample = df.loc[random_indices]\n",
    "positive_sample"
   ]
  },
  {
   "cell_type": "code",
   "execution_count": 26,
   "id": "117098b4",
   "metadata": {},
   "outputs": [
    {
     "data": {
      "text/plain": [
       "2    5071\n",
       "1    5071\n",
       "0    4720\n",
       "Name: y, dtype: int64"
      ]
     },
     "execution_count": 26,
     "metadata": {},
     "output_type": "execute_result"
    }
   ],
   "source": [
    "# combine reduced ham with spam\n",
    "df2 = pd.concat([positive_sample, df[df['y'] != 2]], verify_integrity=True)\n",
    "df2['y'].value_counts()"
   ]
  },
  {
   "cell_type": "code",
   "execution_count": 27,
   "id": "92ba8a85",
   "metadata": {},
   "outputs": [
    {
     "name": "stdout",
     "output_type": "stream",
     "text": [
      "value counts of y_train is : 2    4564\n",
      "1    4563\n",
      "0    4248\n",
      "Name: y, dtype: int64\n"
     ]
    }
   ],
   "source": [
    "# now that our data is balanced, let's split into training and testing set\n",
    "from sklearn.model_selection import train_test_split\n",
    "X_train, X_test, y_train, y_test = train_test_split(df2['text'], df2['y'], \n",
    "                                                    test_size=0.1, \n",
    "                                                    stratify=df2['y'],\n",
    "                                                    random_state=8307)\n",
    "print('value counts of y_train is :', y_train.value_counts())"
   ]
  },
  {
   "cell_type": "code",
   "execution_count": null,
   "id": "694f3438",
   "metadata": {},
   "outputs": [],
   "source": []
  },
  {
   "cell_type": "code",
   "execution_count": null,
   "id": "1b2416e9",
   "metadata": {},
   "outputs": [],
   "source": []
  },
  {
   "cell_type": "code",
   "execution_count": null,
   "id": "9df5c437",
   "metadata": {},
   "outputs": [],
   "source": []
  },
  {
   "cell_type": "markdown",
   "id": "67af4457",
   "metadata": {},
   "source": [
    "# Different Approaches of Sentiment Analysis\n",
    "- tfidf with Naive Bayes\n",
    "- tdidf with Other ML\n",
    "- word2vec with normal neural network\n",
    "- rnn\n",
    "- cnn\n",
    "- bert transformer"
   ]
  },
  {
   "cell_type": "markdown",
   "id": "b1d93a52",
   "metadata": {},
   "source": [
    "### (1) Naive Bayes alone"
   ]
  },
  {
   "cell_type": "code",
   "execution_count": 57,
   "id": "6de053f7",
   "metadata": {},
   "outputs": [
    {
     "name": "stdout",
     "output_type": "stream",
     "text": [
      "49.96637525218561\n"
     ]
    }
   ],
   "source": [
    "from nltk.classify import NaiveBayesClassifier\n",
    "from nltk.tokenize import word_tokenize\n",
    "\n",
    "# This is how the Naive Bayes classifier expects the input\n",
    "def create_word_features(words):\n",
    "    useful_words = [word for word in word_tokenize(words) if word not in stopwords.words(\"english\")]\n",
    "    my_dict = dict([(word, True) for word in useful_words])\n",
    "    return my_dict\n",
    "\n",
    "# X_train, X_test, y_train, y_test\n",
    "train_NB = []\n",
    "test_NB = []\n",
    "\n",
    "for x, y in zip(X_train.tolist(), y_train.tolist()):\n",
    "    train_NB.append((create_word_features(x), y))\n",
    "\n",
    "for x, y in zip(X_test.tolist(), y_test.tolist()):\n",
    "    test_NB.append((create_word_features(x), y))\n",
    "\n",
    "classifier = NaiveBayesClassifier.train(train_NB)\n",
    "accuracy = nltk.classify.util.accuracy(classifier, test_NB)\n",
    "print(accuracy * 100)"
   ]
  },
  {
   "cell_type": "markdown",
   "id": "20f308b7",
   "metadata": {},
   "source": [
    "### (2) tf-idf with knn classifier"
   ]
  },
  {
   "cell_type": "code",
   "execution_count": 61,
   "id": "22fb9f41",
   "metadata": {
    "scrolled": false
   },
   "outputs": [
    {
     "data": {
      "image/png": "[encoded data removed]",
      "text/plain": [
       "<Figure size 864x720 with 1 Axes>"
      ]
     },
     "metadata": {
      "needs_background": "light"
     },
     "output_type": "display_data"
    },
    {
     "name": "stdout",
     "output_type": "stream",
     "text": [
      "Final Accuracy: 0.5722932078009415\n"
     ]
    }
   ],
   "source": [
    "from sklearn.feature_extraction.text import TfidfVectorizer\n",
    "from sklearn.metrics import accuracy_score\n",
    "from sklearn.model_selection import cross_val_score\n",
    "from sklearn.neighbors import KNeighborsClassifier\n",
    "import seaborn as sns\n",
    "import matplotlib.pyplot as plt\n",
    "\n",
    "# perform text processing before fitting\n",
    "tfid = TfidfVectorizer()\n",
    "tfid.fit(X_train)\n",
    "\n",
    "X_train_tf = tfid.transform(X_train)\n",
    "X_test_tf = tfid.transform(X_test)\n",
    "\n",
    "neighbors = [2, 5, 10, 20]\n",
    "knn_names = ['neighbor_{}'.format(n) for n in neighbors]\n",
    "models = [KNeighborsClassifier(n_neighbors=n, p=2, metric='minkowski') for n in neighbors]\n",
    "\n",
    "scores = []\n",
    "\n",
    "for name, model in zip(knn_names, models):\n",
    "    model_name = name\n",
    "    model_scores = cross_val_score(estimator=model, X=X_train_tf.toarray(), \n",
    "                                   y=y_train, cv=5, scoring='accuracy')\n",
    "    for fold_idx, score in enumerate(model_scores):\n",
    "        scores.append((model_name, fold_idx, score))\n",
    "\n",
    "cv_df = pd.DataFrame(scores, columns=['name', \"fold_idx\", \"Accuracy\"])\n",
    "\n",
    "fig, ax = plt.subplots(figsize=(12,10))\n",
    "sns.boxplot(x='name', y='Accuracy', data=cv_df)\n",
    "sns.stripplot(x='name', y='Accuracy', data=cv_df, size=8, jitter=True, edgecolor='gray', linewidth=2)\n",
    "plt.show()\n",
    "\n",
    "final_knn = KNeighborsClassifier(n_neighbors=20, p=2, metric='minkowski')\n",
    "final_knn.fit(X_train_tf.toarray(), y_train)\n",
    "print (\"Final Accuracy: %s\" \n",
    "       % accuracy_score(y_test, final_knn.predict(X_test_tf.toarray())))"
   ]
  },
  {
   "cell_type": "markdown",
   "id": "70ac5b35",
   "metadata": {},
   "source": [
    "Seems better than merely naive bayes"
   ]
  },
  {
   "cell_type": "markdown",
   "id": "0ae0a0ec",
   "metadata": {},
   "source": [
    "### (3) N-gram with logistic regression"
   ]
  },
  {
   "cell_type": "code",
   "execution_count": 64,
   "id": "4de09f48",
   "metadata": {
    "scrolled": true
   },
   "outputs": [
    {
     "name": "stderr",
     "output_type": "stream",
     "text": [
      "C:\\Users\\jordan.yew\\anaconda3\\envs\\nlp\\lib\\site-packages\\sklearn\\linear_model\\_logistic.py:444: ConvergenceWarning: lbfgs failed to converge (status=1):\n",
      "STOP: TOTAL NO. of ITERATIONS REACHED LIMIT.\n",
      "\n",
      "Increase the number of iterations (max_iter) or scale the data as shown in:\n",
      "    https://scikit-learn.org/stable/modules/preprocessing.html\n",
      "Please also refer to the documentation for alternative solver options:\n",
      "    https://scikit-learn.org/stable/modules/linear_model.html#logistic-regression\n",
      "  n_iter_i = _check_optimize_result(\n",
      "C:\\Users\\jordan.yew\\anaconda3\\envs\\nlp\\lib\\site-packages\\sklearn\\linear_model\\_logistic.py:444: ConvergenceWarning: lbfgs failed to converge (status=1):\n",
      "STOP: TOTAL NO. of ITERATIONS REACHED LIMIT.\n",
      "\n",
      "Increase the number of iterations (max_iter) or scale the data as shown in:\n",
      "    https://scikit-learn.org/stable/modules/preprocessing.html\n",
      "Please also refer to the documentation for alternative solver options:\n",
      "    https://scikit-learn.org/stable/modules/linear_model.html#logistic-regression\n",
      "  n_iter_i = _check_optimize_result(\n",
      "C:\\Users\\jordan.yew\\anaconda3\\envs\\nlp\\lib\\site-packages\\sklearn\\linear_model\\_logistic.py:444: ConvergenceWarning: lbfgs failed to converge (status=1):\n",
      "STOP: TOTAL NO. of ITERATIONS REACHED LIMIT.\n",
      "\n",
      "Increase the number of iterations (max_iter) or scale the data as shown in:\n",
      "    https://scikit-learn.org/stable/modules/preprocessing.html\n",
      "Please also refer to the documentation for alternative solver options:\n",
      "    https://scikit-learn.org/stable/modules/linear_model.html#logistic-regression\n",
      "  n_iter_i = _check_optimize_result(\n",
      "C:\\Users\\jordan.yew\\anaconda3\\envs\\nlp\\lib\\site-packages\\sklearn\\linear_model\\_logistic.py:444: ConvergenceWarning: lbfgs failed to converge (status=1):\n",
      "STOP: TOTAL NO. of ITERATIONS REACHED LIMIT.\n",
      "\n",
      "Increase the number of iterations (max_iter) or scale the data as shown in:\n",
      "    https://scikit-learn.org/stable/modules/preprocessing.html\n",
      "Please also refer to the documentation for alternative solver options:\n",
      "    https://scikit-learn.org/stable/modules/linear_model.html#logistic-regression\n",
      "  n_iter_i = _check_optimize_result(\n",
      "C:\\Users\\jordan.yew\\anaconda3\\envs\\nlp\\lib\\site-packages\\sklearn\\linear_model\\_logistic.py:444: ConvergenceWarning: lbfgs failed to converge (status=1):\n",
      "STOP: TOTAL NO. of ITERATIONS REACHED LIMIT.\n",
      "\n",
      "Increase the number of iterations (max_iter) or scale the data as shown in:\n",
      "    https://scikit-learn.org/stable/modules/preprocessing.html\n",
      "Please also refer to the documentation for alternative solver options:\n",
      "    https://scikit-learn.org/stable/modules/linear_model.html#logistic-regression\n",
      "  n_iter_i = _check_optimize_result(\n",
      "C:\\Users\\jordan.yew\\anaconda3\\envs\\nlp\\lib\\site-packages\\sklearn\\linear_model\\_logistic.py:444: ConvergenceWarning: lbfgs failed to converge (status=1):\n",
      "STOP: TOTAL NO. of ITERATIONS REACHED LIMIT.\n",
      "\n",
      "Increase the number of iterations (max_iter) or scale the data as shown in:\n",
      "    https://scikit-learn.org/stable/modules/preprocessing.html\n",
      "Please also refer to the documentation for alternative solver options:\n",
      "    https://scikit-learn.org/stable/modules/linear_model.html#logistic-regression\n",
      "  n_iter_i = _check_optimize_result(\n",
      "C:\\Users\\jordan.yew\\anaconda3\\envs\\nlp\\lib\\site-packages\\sklearn\\linear_model\\_logistic.py:444: ConvergenceWarning: lbfgs failed to converge (status=1):\n",
      "STOP: TOTAL NO. of ITERATIONS REACHED LIMIT.\n",
      "\n",
      "Increase the number of iterations (max_iter) or scale the data as shown in:\n",
      "    https://scikit-learn.org/stable/modules/preprocessing.html\n",
      "Please also refer to the documentation for alternative solver options:\n",
      "    https://scikit-learn.org/stable/modules/linear_model.html#logistic-regression\n",
      "  n_iter_i = _check_optimize_result(\n",
      "C:\\Users\\jordan.yew\\anaconda3\\envs\\nlp\\lib\\site-packages\\sklearn\\linear_model\\_logistic.py:444: ConvergenceWarning: lbfgs failed to converge (status=1):\n",
      "STOP: TOTAL NO. of ITERATIONS REACHED LIMIT.\n",
      "\n",
      "Increase the number of iterations (max_iter) or scale the data as shown in:\n",
      "    https://scikit-learn.org/stable/modules/preprocessing.html\n",
      "Please also refer to the documentation for alternative solver options:\n",
      "    https://scikit-learn.org/stable/modules/linear_model.html#logistic-regression\n",
      "  n_iter_i = _check_optimize_result(\n",
      "C:\\Users\\jordan.yew\\anaconda3\\envs\\nlp\\lib\\site-packages\\sklearn\\linear_model\\_logistic.py:444: ConvergenceWarning: lbfgs failed to converge (status=1):\n",
      "STOP: TOTAL NO. of ITERATIONS REACHED LIMIT.\n",
      "\n",
      "Increase the number of iterations (max_iter) or scale the data as shown in:\n",
      "    https://scikit-learn.org/stable/modules/preprocessing.html\n",
      "Please also refer to the documentation for alternative solver options:\n",
      "    https://scikit-learn.org/stable/modules/linear_model.html#logistic-regression\n",
      "  n_iter_i = _check_optimize_result(\n",
      "C:\\Users\\jordan.yew\\anaconda3\\envs\\nlp\\lib\\site-packages\\sklearn\\linear_model\\_logistic.py:444: ConvergenceWarning: lbfgs failed to converge (status=1):\n",
      "STOP: TOTAL NO. of ITERATIONS REACHED LIMIT.\n",
      "\n",
      "Increase the number of iterations (max_iter) or scale the data as shown in:\n",
      "    https://scikit-learn.org/stable/modules/preprocessing.html\n",
      "Please also refer to the documentation for alternative solver options:\n",
      "    https://scikit-learn.org/stable/modules/linear_model.html#logistic-regression\n",
      "  n_iter_i = _check_optimize_result(\n",
      "C:\\Users\\jordan.yew\\anaconda3\\envs\\nlp\\lib\\site-packages\\sklearn\\linear_model\\_logistic.py:444: ConvergenceWarning: lbfgs failed to converge (status=1):\n",
      "STOP: TOTAL NO. of ITERATIONS REACHED LIMIT.\n",
      "\n",
      "Increase the number of iterations (max_iter) or scale the data as shown in:\n",
      "    https://scikit-learn.org/stable/modules/preprocessing.html\n",
      "Please also refer to the documentation for alternative solver options:\n",
      "    https://scikit-learn.org/stable/modules/linear_model.html#logistic-regression\n",
      "  n_iter_i = _check_optimize_result(\n"
     ]
    },
    {
     "data": {
      "image/png": "[encoded data removed]",
      "text/plain": [
       "<Figure size 864x720 with 1 Axes>"
      ]
     },
     "metadata": {
      "needs_background": "light"
     },
     "output_type": "display_data"
    },
    {
     "name": "stdout",
     "output_type": "stream",
     "text": [
      "Final Accuracy: 0.6872898453261601\n"
     ]
    }
   ],
   "source": [
    "from sklearn.feature_extraction.text import CountVectorizer\n",
    "from sklearn.linear_model import LogisticRegression\n",
    "\n",
    "ngram_vectorizer = CountVectorizer(binary=True, ngram_range=(1, 2))\n",
    "ngram_vectorizer.fit(X_train)\n",
    "X_train_ngram = ngram_vectorizer.transform(X_train)\n",
    "X_test_ngram = ngram_vectorizer.transform(X_test)\n",
    "\n",
    "Cs = [0.01, 0.05, 0.25, 0.5, 1]\n",
    "lr_names = ['logistic_{}'.format(c) for c in Cs]\n",
    "models = [LogisticRegression(C=c) for c in Cs]\n",
    "\n",
    "scores = []\n",
    "\n",
    "for name, model in zip(lr_names, models):\n",
    "    model_name = name\n",
    "    model_scores = cross_val_score(estimator=model, X=X_train_ngram, \n",
    "                                   y=y_train, cv=5, scoring='accuracy')\n",
    "    for fold_idx, score in enumerate(model_scores):\n",
    "        scores.append((model_name, fold_idx, score))\n",
    "\n",
    "cv_df = pd.DataFrame(scores, columns=['name', \"fold_idx\", \"Accuracy\"])\n",
    "\n",
    "fig, ax = plt.subplots(figsize=(12,10))\n",
    "sns.boxplot(x='name', y='Accuracy', data=cv_df)\n",
    "sns.stripplot(x='name', y='Accuracy', data=cv_df, size=8, jitter=True, edgecolor='gray', linewidth=2)\n",
    "plt.show()\n",
    "    \n",
    "final_ngram = LogisticRegression(C=0.25)\n",
    "final_ngram.fit(X_train_ngram, y_train)\n",
    "print (\"Final Accuracy: %s\" \n",
    "       % accuracy_score(y_test, final_ngram.predict(X_test_ngram)))"
   ]
  },
  {
   "cell_type": "markdown",
   "id": "b759d20d",
   "metadata": {},
   "source": [
    "Better than the previous two algorithms"
   ]
  },
  {
   "cell_type": "markdown",
   "id": "557edb01",
   "metadata": {},
   "source": [
    "### (4) word2vec with normal neural network"
   ]
  },
  {
   "cell_type": "code",
   "execution_count": null,
   "id": "b31f36de",
   "metadata": {},
   "outputs": [],
   "source": []
  },
  {
   "cell_type": "code",
   "execution_count": null,
   "id": "03a4b9d3",
   "metadata": {},
   "outputs": [],
   "source": []
  },
  {
   "cell_type": "code",
   "execution_count": null,
   "id": "a0af9502",
   "metadata": {},
   "outputs": [],
   "source": []
  },
  {
   "cell_type": "markdown",
   "id": "94a17fe4",
   "metadata": {},
   "source": [
    "### (5) RNN & CNN"
   ]
  },
  {
   "cell_type": "code",
   "execution_count": null,
   "id": "da04a363",
   "metadata": {},
   "outputs": [],
   "source": []
  },
  {
   "cell_type": "code",
   "execution_count": null,
   "id": "80cf0497",
   "metadata": {},
   "outputs": [],
   "source": []
  },
  {
   "cell_type": "markdown",
   "id": "ff0de6bb",
   "metadata": {},
   "source": [
    "### (6) BERT Transformer"
   ]
  },
  {
   "cell_type": "code",
   "execution_count": null,
   "id": "282d71d5",
   "metadata": {},
   "outputs": [],
   "source": []
  },
  {
   "cell_type": "code",
   "execution_count": null,
   "id": "8de2de35",
   "metadata": {},
   "outputs": [],
   "source": []
  }
 ],
 "metadata": {
  "kernelspec": {
   "display_name": "Python 3 (ipykernel)",
   "language": "python",
   "name": "python3"
  },
  "language_info": {
   "codemirror_mode": {
    "name": "ipython",
    "version": 3
   },
   "file_extension": ".py",
   "mimetype": "text/x-python",
   "name": "python",
   "nbconvert_exporter": "python",
   "pygments_lexer": "ipython3",
   "version": "3.8.13"
  }
 },
 "nbformat": 4,
 "nbformat_minor": 5
}
